{
 "cells": [
  {
   "cell_type": "markdown",
   "metadata": {},
   "source": [
    "<b>The Sith Lords are concerned that their recruiting slogan, \"Give In to Your Anger,\" isn't very effective. Darth Vader develops an alternative slogan, \"Together We Can Rule the Galaxy.\" They compare the slogans on two groups of 50 captured droids each. In one group, Emperor Palpatine delivers the \"Anger\" slogan. In the other, Darth Vader presents the \"Together\" slogan. 20 droids convert to the Dark Side after hearing Palpatine's slogan, while only 5 droids convert after hearing Vader's. The Sith's data scientist concludes that \"Anger\" is a more effective slogan and should continue to be used.</b>"
   ]
  },
  {
   "cell_type": "markdown",
   "metadata": {},
   "source": [
    "<h3>The Problem</h3>\n",
    "\n",
    "Which slogan is better for recruiting droids: \"Give in to Your Anger\" or \"Together We Can Rule the Galaxy\"?  The Empire is in need of more droids to take the place of humans in their society.  The two most powerful Jedi within the Empire are Emperor Palpatine and Darth Vader, and neither one is used to giving in when they want something.  Each has a slogan that he feels is superior and will not give in to the other.  As their Chief Data Scientist, I find them each in a state of distress, Palpatine holding his neck and struggling for breath, Vader slumped over with his circuits spewing smoke from some sort of electrical malfuction.  As they each begin to come to, I quickly come between them and reassure them that both slogans could be effective, but I have a solution to their slogan disagreement."
   ]
  },
  {
   "cell_type": "markdown",
   "metadata": {},
   "source": [
    "<h3>The Potential Solution</h3>\n",
    "\n",
    "My hypothesis is that \"Together We Can Rule the Galaxy\" is a better slogan, especially considering that we are testing droids, who can only be programmed to experience emotions on a rudimentary level.  Appealing to their anger probably won't go as far as convincing them that they could help to rule the galaxy."
   ]
  },
  {
   "cell_type": "markdown",
   "metadata": {},
   "source": [
    "<h3>The Method of Testing the Solution</h3>\n",
    "\n",
    "Neither Palpatine nor Vader will present the slogans, as a neutral party would be necessary to eliminate bias.  I would choose C3PO, since he can speak just about any language that a droid could possibly be programmed to speak.  Creating sample groups of 50 each would be done randomly, and we could collect additional data by giving the droids a survey before they are presented with the slogans.  One group would be given the \"Anger\" slogan , while the other group will be given the \"Together\" slogan.  C3PO will present the slogan to each group of droids, and then ask them to complete the second part of the survey.  The first part of the survey will ask the droids if they wish to enlist in the Imperial Army.  It would then ask them to score, on a scale of 1 to 10, how likely it is that they may want to join in the future.  The second part of the survey would reiterate the request to join, but would also ask for an answer to how likely they are to join in the future.  It is possible that some droids will be moved one direction or the other, and that could show that continued indoctrination and recruiting efforts may yield better results."
   ]
  },
  {
   "cell_type": "code",
   "execution_count": null,
   "metadata": {},
   "outputs": [],
   "source": []
  }
 ],
 "metadata": {
  "kernelspec": {
   "display_name": "Python 3",
   "language": "python",
   "name": "python3"
  },
  "language_info": {
   "codemirror_mode": {
    "name": "ipython",
    "version": 3
   },
   "file_extension": ".py",
   "mimetype": "text/x-python",
   "name": "python",
   "nbconvert_exporter": "python",
   "pygments_lexer": "ipython3",
   "version": "3.6.1"
  }
 },
 "nbformat": 4,
 "nbformat_minor": 2
}
